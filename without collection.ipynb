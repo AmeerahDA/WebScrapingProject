{
 "cells": [
  {
   "cell_type": "markdown",
   "metadata": {},
   "source": [
    "# that with out collection \n"
   ]
  },
  {
   "cell_type": "code",
   "execution_count": 7,
   "metadata": {},
   "outputs": [],
   "source": [
    "import requests\n",
    "from bs4 import BeautifulSoup\n",
    "import csv\n",
    "import pandas as pd\n",
    "from openpyxl import Workbook\n",
    "from urllib.parse import urljoin"
   ]
  },
  {
   "cell_type": "code",
   "execution_count": 8,
   "metadata": {},
   "outputs": [],
   "source": [
    "def get_machine_details(url):\n",
    "    html = requests.get(url)\n",
    "    soup = BeautifulSoup(html.text, \"html.parser\")\n",
    "\n",
    "    machineDictionary = {\n",
    "        'field name': None,\n",
    "        'reference_number': None,\n",
    "        'watch_URL': url,\n",
    "        'type': None,\n",
    "        'brand': None,\n",
    "        'year_introduced': None,\n",
    "        'parent_model': None,\n",
    "        'specific_model': None,\n",
    "        'nickname': None,\n",
    "        'marketing_name': None,\n",
    "        'style': None,\n",
    "        'currency': None,\n",
    "        'price': None,\n",
    "        'image_URL': None,\n",
    "        'made_in': None,\n",
    "        'case_shape': None,\n",
    "        'case_material': None,\n",
    "        'case_finish': None,\n",
    "        'caseback': None,\n",
    "        'diameter': None,\n",
    "        'between_lugs': None,\n",
    "        'lug_to_lug': None,\n",
    "        'case_thickness': None,\n",
    "        'bezel_material': None,\n",
    "        'bezel_color': None,\n",
    "        'crystal': None,\n",
    "        'water_resistance': None,\n",
    "        'weight': None,\n",
    "        'dial_color': None,\n",
    "        'numerals': None,\n",
    "        'bracelet_material': None,\n",
    "        'bracelet_color': None,\n",
    "        'clasp_type': None,\n",
    "        'movement': None,\n",
    "        'caliber': None,\n",
    "        'power_reserve': None,\n",
    "        'frequency': None,\n",
    "        'jewels': None,\n",
    "        'features': None,\n",
    "        'description': None,\n",
    "        'short_description': None\n",
    "    }\n",
    "\n",
    "    # Extracting relevant details\n",
    "    brand = soup.find('a', class_='main')\n",
    "    if brand:\n",
    "        machineDictionary['brand'] = brand.text.strip().upper()\n",
    "\n",
    "    parent_model = url.split('/')[-2]\n",
    "    parent_model = parent_model.replace('-', \" \").capitalize()\n",
    "    machineDictionary['parent_model'] = parent_model\n",
    "\n",
    "\n",
    "\n",
    "    machine_section = soup.find('section', id='machine')\n",
    "    if machine_section:\n",
    "        # Check for different h3 headings and extract corresponding details\n",
    "        case_heading = machine_section.find('h3', text='Case')\n",
    "        if case_heading:\n",
    "            case_material = case_heading.find_next('ul').text.strip()\n",
    "            machineDictionary['case_material'] = case_material\n",
    "            \n",
    "            # Fill other columns with the same value as case_material\n",
    "            machineDictionary['diameter'] = case_material\n",
    "            machineDictionary['between_lugs'] = case_material\n",
    "            machineDictionary['lug_to_lug'] = case_material\n",
    "            machineDictionary['case_thickness'] = case_material\n",
    "\n",
    "        movement_heading = machine_section.find('h3', text='Engine')\n",
    "        if movement_heading:\n",
    "            movement = movement_heading.find_next('ul').text.strip()\n",
    "            machineDictionary['movement'] = movement\n",
    "            \n",
    "            # Fill other columns with the same value as movement\n",
    "            machineDictionary['caliber'] = movement\n",
    "            machineDictionary['power_reserve'] = movement\n",
    "            machineDictionary['frequency'] = movement\n",
    "            machineDictionary['jewels'] = movement\n",
    "\n",
    "        features_heading = machine_section.find('h3', text='Functions / indications')\n",
    "        if features_heading:\n",
    "            features = features_heading.find_next('ul').text.strip()\n",
    "            machineDictionary['features'] = features\n",
    "\n",
    "    # Find the first image URL within the section with id='machine'\n",
    "    image_relative_url = soup.find('section', id='machine').find('a', class_='lgitem')['href']\n",
    "    base_url = 'https://www.mbandf.com'  # Base URL of the website\n",
    "    image_absolute_url = urljoin(base_url, image_relative_url)  # Convert relative URL to absolute URL\n",
    "    machineDictionary['image_URL'] = image_absolute_url\n",
    "\n",
    "    description_section = soup.find('section', id='overview')\n",
    "    if description_section:\n",
    "        description1 = description_section.find_all('p')\n",
    "        descr = ''\n",
    "        for des in description1:\n",
    "            descr = descr + des.text.strip()\n",
    "        machineDictionary['description'] = descr\n",
    "\n",
    "    return machineDictionary"
   ]
  },
  {
   "cell_type": "code",
   "execution_count": 9,
   "metadata": {},
   "outputs": [],
   "source": [
    "urls=[\n",
    "    'https://www.mbandf.com/en/machines/co-creations/tom-and-t-rex',\n",
    "    'https://www.mbandf.com/en/machines/performance-art/hmoser-mbandf-streamliner-pandamonium',\n",
    "    'https://www.mbandf.com/en/machines/performance-art/hm10-panda-only-watch',\n",
    "    'https://www.mbandf.com/en/machines/performance-art/hm8-only-watch',\n",
    "    'https://www.mbandf.com/en/machines/performance-art/hm4-only-watch',\n",
    "    'https://www.mbandf.com/en/machines/performance-art/hm2-2-black-box',\n",
    "    'https://www.mbandf.com/en/machines/performance-art/hm2-only-watch' ]\n",
    "\n"
   ]
  },
  {
   "cell_type": "code",
   "execution_count": 10,
   "metadata": {},
   "outputs": [
    {
     "name": "stderr",
     "output_type": "stream",
     "text": [
      "C:\\Users\\DELL\\AppData\\Local\\Temp\\ipykernel_15288\\2369644989.py:63: DeprecationWarning: The 'text' argument to find()-type methods is deprecated. Use 'string' instead.\n",
      "  case_heading = machine_section.find('h3', text='Case')\n",
      "C:\\Users\\DELL\\AppData\\Local\\Temp\\ipykernel_15288\\2369644989.py:74: DeprecationWarning: The 'text' argument to find()-type methods is deprecated. Use 'string' instead.\n",
      "  movement_heading = machine_section.find('h3', text='Engine')\n",
      "C:\\Users\\DELL\\AppData\\Local\\Temp\\ipykernel_15288\\2369644989.py:85: DeprecationWarning: The 'text' argument to find()-type methods is deprecated. Use 'string' instead.\n",
      "  features_heading = machine_section.find('h3', text='Functions / indications')\n"
     ]
    },
    {
     "name": "stdout",
     "output_type": "stream",
     "text": [
      "File saved as test_code_refer1.csv\n"
     ]
    }
   ],
   "source": [
    "machine_details_list = []\n",
    "\n",
    "for url in urls:\n",
    "    machine_details = get_machine_details(url)\n",
    "    machine_details_list.append(machine_details)\n",
    "\n",
    "df_watch = pd.DataFrame(machine_details_list)\n",
    "df_watch.to_csv('MBandF_Brands_without_collection.csv')\n",
    "df_watch.to_excel('MBandF_Brands_without_collection.xlsx',index=False)\n",
    "print('File saved as test_code_refer1.csv')"
   ]
  }
 ],
 "metadata": {
  "kernelspec": {
   "display_name": "Python 3",
   "language": "python",
   "name": "python3"
  },
  "language_info": {
   "codemirror_mode": {
    "name": "ipython",
    "version": 3
   },
   "file_extension": ".py",
   "mimetype": "text/x-python",
   "name": "python",
   "nbconvert_exporter": "python",
   "pygments_lexer": "ipython3",
   "version": "3.11.7"
  }
 },
 "nbformat": 4,
 "nbformat_minor": 2
}
